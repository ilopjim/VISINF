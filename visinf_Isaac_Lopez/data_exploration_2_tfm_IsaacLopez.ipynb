{
 "cells": [
  {
   "cell_type": "code",
   "execution_count": 1,
   "metadata": {
    "collapsed": true
   },
   "outputs": [],
   "source": [
    "import pandas as pd\n",
    "import seaborn as sns\n",
    "import matplotlib.pyplot as plt\n",
    "import numpy as np\n",
    "# Comment this if the data visualisations doesn't work on your side\n",
    "%matplotlib inline\n",
    "\n",
    "#plt.style.use('bmh')"
   ]
  },
  {
   "cell_type": "code",
   "execution_count": 2,
   "metadata": {},
   "outputs": [
    {
     "data": {
      "text/html": [
       "<div>\n",
       "<style>\n",
       "    .dataframe thead tr:only-child th {\n",
       "        text-align: right;\n",
       "    }\n",
       "\n",
       "    .dataframe thead th {\n",
       "        text-align: left;\n",
       "    }\n",
       "\n",
       "    .dataframe tbody tr th {\n",
       "        vertical-align: top;\n",
       "    }\n",
       "</style>\n",
       "<table border=\"1\" class=\"dataframe\">\n",
       "  <thead>\n",
       "    <tr style=\"text-align: right;\">\n",
       "      <th></th>\n",
       "      <th>V203</th>\n",
       "      <th>V191</th>\n",
       "      <th>V212</th>\n",
       "      <th>V202</th>\n",
       "      <th>V187</th>\n",
       "      <th>V185</th>\n",
       "      <th>V186</th>\n",
       "      <th>V180</th>\n",
       "      <th>V242</th>\n",
       "      <th>V167</th>\n",
       "      <th>...</th>\n",
       "      <th>V149</th>\n",
       "      <th>V238</th>\n",
       "      <th>V154</th>\n",
       "      <th>V161</th>\n",
       "      <th>V234</th>\n",
       "      <th>V194</th>\n",
       "      <th>V207</th>\n",
       "      <th>V173</th>\n",
       "      <th>V174</th>\n",
       "      <th>y</th>\n",
       "    </tr>\n",
       "    <tr>\n",
       "      <th>ref</th>\n",
       "      <th></th>\n",
       "      <th></th>\n",
       "      <th></th>\n",
       "      <th></th>\n",
       "      <th></th>\n",
       "      <th></th>\n",
       "      <th></th>\n",
       "      <th></th>\n",
       "      <th></th>\n",
       "      <th></th>\n",
       "      <th></th>\n",
       "      <th></th>\n",
       "      <th></th>\n",
       "      <th></th>\n",
       "      <th></th>\n",
       "      <th></th>\n",
       "      <th></th>\n",
       "      <th></th>\n",
       "      <th></th>\n",
       "      <th></th>\n",
       "      <th></th>\n",
       "    </tr>\n",
       "  </thead>\n",
       "  <tbody>\n",
       "    <tr>\n",
       "      <th>201390679</th>\n",
       "      <td>0.0</td>\n",
       "      <td>7.0</td>\n",
       "      <td>199.0</td>\n",
       "      <td>27.0</td>\n",
       "      <td>9999.0</td>\n",
       "      <td>113.0</td>\n",
       "      <td>9999.0</td>\n",
       "      <td>9999.0</td>\n",
       "      <td>15.0</td>\n",
       "      <td>7.0</td>\n",
       "      <td>...</td>\n",
       "      <td>0</td>\n",
       "      <td>1</td>\n",
       "      <td>1</td>\n",
       "      <td>0</td>\n",
       "      <td>0</td>\n",
       "      <td>4</td>\n",
       "      <td>6</td>\n",
       "      <td>0</td>\n",
       "      <td>0</td>\n",
       "      <td>0</td>\n",
       "    </tr>\n",
       "    <tr>\n",
       "      <th>201390959</th>\n",
       "      <td>0.0</td>\n",
       "      <td>4.0</td>\n",
       "      <td>688.0</td>\n",
       "      <td>47.0</td>\n",
       "      <td>9999.0</td>\n",
       "      <td>1.0</td>\n",
       "      <td>9999.0</td>\n",
       "      <td>9999.0</td>\n",
       "      <td>32.0</td>\n",
       "      <td>7.0</td>\n",
       "      <td>...</td>\n",
       "      <td>0</td>\n",
       "      <td>0</td>\n",
       "      <td>0</td>\n",
       "      <td>0</td>\n",
       "      <td>0</td>\n",
       "      <td>0</td>\n",
       "      <td>0</td>\n",
       "      <td>0</td>\n",
       "      <td>0</td>\n",
       "      <td>0</td>\n",
       "    </tr>\n",
       "    <tr>\n",
       "      <th>201397626</th>\n",
       "      <td>0.0</td>\n",
       "      <td>11.0</td>\n",
       "      <td>1140.0</td>\n",
       "      <td>36.0</td>\n",
       "      <td>9999.0</td>\n",
       "      <td>130.0</td>\n",
       "      <td>9999.0</td>\n",
       "      <td>9999.0</td>\n",
       "      <td>32.0</td>\n",
       "      <td>7.0</td>\n",
       "      <td>...</td>\n",
       "      <td>0</td>\n",
       "      <td>0</td>\n",
       "      <td>0</td>\n",
       "      <td>0</td>\n",
       "      <td>1</td>\n",
       "      <td>5</td>\n",
       "      <td>0</td>\n",
       "      <td>0</td>\n",
       "      <td>0</td>\n",
       "      <td>0</td>\n",
       "    </tr>\n",
       "    <tr>\n",
       "      <th>201397742</th>\n",
       "      <td>99.0</td>\n",
       "      <td>8.0</td>\n",
       "      <td>872.0</td>\n",
       "      <td>25.0</td>\n",
       "      <td>9999.0</td>\n",
       "      <td>69.0</td>\n",
       "      <td>9999.0</td>\n",
       "      <td>9999.0</td>\n",
       "      <td>28.0</td>\n",
       "      <td>3.0</td>\n",
       "      <td>...</td>\n",
       "      <td>0</td>\n",
       "      <td>0</td>\n",
       "      <td>0</td>\n",
       "      <td>0</td>\n",
       "      <td>0</td>\n",
       "      <td>0</td>\n",
       "      <td>1</td>\n",
       "      <td>0</td>\n",
       "      <td>0</td>\n",
       "      <td>0</td>\n",
       "    </tr>\n",
       "    <tr>\n",
       "      <th>201401345</th>\n",
       "      <td>0.0</td>\n",
       "      <td>8.0</td>\n",
       "      <td>1143.0</td>\n",
       "      <td>33.0</td>\n",
       "      <td>28.0</td>\n",
       "      <td>181.0</td>\n",
       "      <td>110.0</td>\n",
       "      <td>19.0</td>\n",
       "      <td>18.0</td>\n",
       "      <td>8.0</td>\n",
       "      <td>...</td>\n",
       "      <td>0</td>\n",
       "      <td>0</td>\n",
       "      <td>0</td>\n",
       "      <td>0</td>\n",
       "      <td>0</td>\n",
       "      <td>10</td>\n",
       "      <td>9</td>\n",
       "      <td>0</td>\n",
       "      <td>0</td>\n",
       "      <td>0</td>\n",
       "    </tr>\n",
       "  </tbody>\n",
       "</table>\n",
       "<p>5 rows × 118 columns</p>\n",
       "</div>"
      ],
      "text/plain": [
       "           V203  V191    V212  V202    V187   V185    V186    V180  V242  \\\n",
       "ref                                                                        \n",
       "201390679   0.0   7.0   199.0  27.0  9999.0  113.0  9999.0  9999.0  15.0   \n",
       "201390959   0.0   4.0   688.0  47.0  9999.0    1.0  9999.0  9999.0  32.0   \n",
       "201397626   0.0  11.0  1140.0  36.0  9999.0  130.0  9999.0  9999.0  32.0   \n",
       "201397742  99.0   8.0   872.0  25.0  9999.0   69.0  9999.0  9999.0  28.0   \n",
       "201401345   0.0   8.0  1143.0  33.0    28.0  181.0   110.0    19.0  18.0   \n",
       "\n",
       "           V167 ...  V149  V238  V154  V161  V234  V194  V207  V173  V174  y  \n",
       "ref             ...                                                           \n",
       "201390679   7.0 ...     0     1     1     0     0     4     6     0     0  0  \n",
       "201390959   7.0 ...     0     0     0     0     0     0     0     0     0  0  \n",
       "201397626   7.0 ...     0     0     0     0     1     5     0     0     0  0  \n",
       "201397742   3.0 ...     0     0     0     0     0     0     1     0     0  0  \n",
       "201401345   8.0 ...     0     0     0     0     0    10     9     0     0  0  \n",
       "\n",
       "[5 rows x 118 columns]"
      ]
     },
     "execution_count": 2,
     "metadata": {},
     "output_type": "execute_result"
    }
   ],
   "source": [
    "df = pd.read_csv('data_exploration_2.csv', low_memory=False, index_col = 'ref')\n",
    "df.head()"
   ]
  },
  {
   "cell_type": "markdown",
   "metadata": {},
   "source": [
    "Balanceo de la variable respuesta"
   ]
  },
  {
   "cell_type": "code",
   "execution_count": 3,
   "metadata": {
    "collapsed": true
   },
   "outputs": [],
   "source": [
    "from sklearn.utils import resample"
   ]
  },
  {
   "cell_type": "code",
   "execution_count": 4,
   "metadata": {},
   "outputs": [
    {
     "data": {
      "text/plain": [
       "0    102703\n",
       "1      1211\n",
       "Name: y, dtype: int64"
      ]
     },
     "execution_count": 4,
     "metadata": {},
     "output_type": "execute_result"
    }
   ],
   "source": [
    "df['y'].value_counts()"
   ]
  },
  {
   "cell_type": "markdown",
   "metadata": {},
   "source": [
    "Separar la clase mayoritaria y minoritaria de la variable respuesta"
   ]
  },
  {
   "cell_type": "code",
   "execution_count": 5,
   "metadata": {
    "collapsed": true
   },
   "outputs": [],
   "source": [
    "# UpSampling\n",
    "df_majority = df[df.y==0]\n",
    "df_minority = df[df.y==1]"
   ]
  },
  {
   "cell_type": "markdown",
   "metadata": {},
   "source": [
    "Upsample clase minoritaria"
   ]
  },
  {
   "cell_type": "code",
   "execution_count": 6,
   "metadata": {
    "collapsed": true
   },
   "outputs": [],
   "source": [
    "# Upsample minority class\n",
    "df_minority_upsampled = resample(df_minority, \n",
    "                                 replace=True,     # muestra con reemplazamiento\n",
    "                                 n_samples=102703,    # hasta la clase mayoritaria\n",
    "                                 random_state=123) "
   ]
  },
  {
   "cell_type": "markdown",
   "metadata": {},
   "source": [
    "Combinar la clase mayoritaria con la muestra de la clase minoritaria"
   ]
  },
  {
   "cell_type": "code",
   "execution_count": 7,
   "metadata": {},
   "outputs": [
    {
     "data": {
      "text/plain": [
       "1    102703\n",
       "0    102703\n",
       "Name: y, dtype: int64"
      ]
     },
     "execution_count": 7,
     "metadata": {},
     "output_type": "execute_result"
    }
   ],
   "source": [
    "# Combine majority class with upsampled minority class\n",
    "df_upsampled = pd.concat([df_majority, df_minority_upsampled])\n",
    "df_upsampled.y.value_counts()"
   ]
  },
  {
   "cell_type": "markdown",
   "metadata": {},
   "source": [
    "El nuevo Dataframe tiene más observaciones que el original, y el ratio de las dos clases de la variable respuesta es ahora 1:1"
   ]
  },
  {
   "cell_type": "markdown",
   "metadata": {},
   "source": [
    "Down-Sample clase mayoritaria"
   ]
  },
  {
   "cell_type": "code",
   "execution_count": 8,
   "metadata": {
    "collapsed": true
   },
   "outputs": [],
   "source": [
    "# Downsample majority class\n",
    "df_majority_downsampled = resample(df_majority, \n",
    "                                 replace=False,    # muestra sin reemplazamiento\n",
    "                                 n_samples=1211,     # hasta la clase minoritaria\n",
    "                                 random_state=123) "
   ]
  },
  {
   "cell_type": "markdown",
   "metadata": {},
   "source": [
    "Combinar la clase minoritaria con la muestra de la clase mayoritaria"
   ]
  },
  {
   "cell_type": "code",
   "execution_count": 9,
   "metadata": {},
   "outputs": [
    {
     "data": {
      "text/plain": [
       "1    1211\n",
       "0    1211\n",
       "Name: y, dtype: int64"
      ]
     },
     "execution_count": 9,
     "metadata": {},
     "output_type": "execute_result"
    }
   ],
   "source": [
    "# Combine minority class with downsampled majority class\n",
    "df_downsampled = pd.concat([df_majority_downsampled, df_minority])\n",
    " \n",
    "# Display new class counts\n",
    "df_downsampled.y.value_counts()"
   ]
  },
  {
   "cell_type": "markdown",
   "metadata": {
    "collapsed": true
   },
   "source": [
    "Importancia de las variables y selección"
   ]
  },
  {
   "cell_type": "code",
   "execution_count": 10,
   "metadata": {
    "collapsed": true
   },
   "outputs": [],
   "source": [
    "X_up = df_upsampled[df_upsampled.columns[:-1]]\n",
    "y_up = df_upsampled['y']\n"
   ]
  },
  {
   "cell_type": "code",
   "execution_count": 11,
   "metadata": {
    "collapsed": true
   },
   "outputs": [],
   "source": [
    "seed = 7"
   ]
  },
  {
   "cell_type": "code",
   "execution_count": 12,
   "metadata": {},
   "outputs": [
    {
     "name": "stdout",
     "output_type": "stream",
     "text": [
      "Feature ranking:\n",
      "1. feature 62 (0.102744)\n",
      "2. feature 18 (0.063529)\n",
      "3. feature 46 (0.059097)\n",
      "4. feature 64 (0.055788)\n",
      "5. feature 45 (0.055639)\n",
      "6. feature 14 (0.045793)\n",
      "7. feature 76 (0.044943)\n",
      "8. feature 2 (0.043734)\n",
      "9. feature 71 (0.043185)\n",
      "10. feature 90 (0.036315)\n",
      "11. feature 114 (0.035213)\n",
      "12. feature 72 (0.032754)\n",
      "13. feature 19 (0.020904)\n",
      "14. feature 40 (0.020836)\n",
      "15. feature 15 (0.020691)\n",
      "16. feature 113 (0.017814)\n",
      "17. feature 6 (0.016237)\n",
      "18. feature 9 (0.015551)\n",
      "19. feature 0 (0.013624)\n",
      "20. feature 12 (0.012660)\n",
      "21. feature 10 (0.012636)\n",
      "22. feature 70 (0.012046)\n",
      "23. feature 69 (0.011691)\n",
      "24. feature 7 (0.011338)\n",
      "25. feature 39 (0.008011)\n",
      "26. feature 1 (0.007689)\n",
      "27. feature 86 (0.007366)\n",
      "28. feature 20 (0.007269)\n",
      "29. feature 77 (0.006566)\n",
      "30. feature 27 (0.005938)\n",
      "31. feature 16 (0.005930)\n",
      "32. feature 65 (0.005581)\n",
      "33. feature 34 (0.005551)\n",
      "34. feature 91 (0.005548)\n",
      "35. feature 26 (0.005401)\n",
      "36. feature 38 (0.004668)\n",
      "37. feature 81 (0.004662)\n",
      "38. feature 8 (0.004636)\n",
      "39. feature 11 (0.004450)\n",
      "40. feature 47 (0.004393)\n",
      "41. feature 89 (0.004331)\n",
      "42. feature 110 (0.004200)\n",
      "43. feature 24 (0.003628)\n",
      "44. feature 17 (0.003383)\n",
      "45. feature 41 (0.003372)\n",
      "46. feature 43 (0.003353)\n",
      "47. feature 21 (0.002781)\n",
      "48. feature 42 (0.002673)\n",
      "49. feature 73 (0.002656)\n",
      "50. feature 80 (0.002549)\n",
      "51. feature 75 (0.002279)\n",
      "52. feature 58 (0.002221)\n",
      "53. feature 79 (0.002200)\n",
      "54. feature 48 (0.002183)\n",
      "55. feature 5 (0.002180)\n",
      "56. feature 74 (0.002129)\n",
      "57. feature 4 (0.002084)\n",
      "58. feature 63 (0.002042)\n",
      "59. feature 59 (0.002003)\n",
      "60. feature 44 (0.001990)\n",
      "61. feature 23 (0.001859)\n",
      "62. feature 87 (0.001847)\n",
      "63. feature 85 (0.001843)\n",
      "64. feature 33 (0.001811)\n",
      "65. feature 36 (0.001794)\n",
      "66. feature 31 (0.001763)\n",
      "67. feature 13 (0.001710)\n",
      "68. feature 68 (0.001639)\n",
      "69. feature 78 (0.001592)\n",
      "70. feature 55 (0.001455)\n",
      "71. feature 88 (0.001427)\n",
      "72. feature 37 (0.001419)\n",
      "73. feature 30 (0.001416)\n",
      "74. feature 32 (0.001351)\n",
      "75. feature 22 (0.001296)\n",
      "76. feature 111 (0.001271)\n",
      "77. feature 3 (0.001194)\n",
      "78. feature 83 (0.001179)\n",
      "79. feature 29 (0.001163)\n",
      "80. feature 112 (0.001151)\n",
      "81. feature 115 (0.001143)\n",
      "82. feature 105 (0.001058)\n",
      "83. feature 107 (0.001039)\n",
      "84. feature 54 (0.001018)\n",
      "85. feature 56 (0.001011)\n",
      "86. feature 52 (0.000957)\n",
      "87. feature 28 (0.000910)\n",
      "88. feature 53 (0.000894)\n",
      "89. feature 25 (0.000892)\n",
      "90. feature 57 (0.000845)\n",
      "91. feature 35 (0.000807)\n",
      "92. feature 67 (0.000718)\n",
      "93. feature 84 (0.000603)\n",
      "94. feature 109 (0.000536)\n",
      "95. feature 82 (0.000524)\n",
      "96. feature 51 (0.000503)\n",
      "97. feature 98 (0.000482)\n",
      "98. feature 49 (0.000378)\n",
      "99. feature 102 (0.000362)\n",
      "100. feature 50 (0.000360)\n",
      "101. feature 108 (0.000354)\n",
      "102. feature 96 (0.000288)\n",
      "103. feature 116 (0.000204)\n",
      "104. feature 106 (0.000178)\n",
      "105. feature 100 (0.000151)\n",
      "106. feature 103 (0.000135)\n",
      "107. feature 97 (0.000132)\n",
      "108. feature 92 (0.000124)\n",
      "109. feature 66 (0.000100)\n",
      "110. feature 60 (0.000098)\n",
      "111. feature 99 (0.000090)\n",
      "112. feature 95 (0.000084)\n",
      "113. feature 104 (0.000064)\n",
      "114. feature 93 (0.000057)\n",
      "115. feature 101 (0.000050)\n",
      "116. feature 94 (0.000017)\n",
      "117. feature 61 (0.000000)\n"
     ]
    },
    {
     "data": {
      "image/png": "[encoded data removed]",
      "text/plain": [
       "<matplotlib.figure.Figure at 0xdf61230>"
      ]
     },
     "metadata": {},
     "output_type": "display_data"
    }
   ],
   "source": [
    "# Feature Importance\n",
    "from sklearn import datasets\n",
    "from sklearn import metrics\n",
    "from sklearn.ensemble import ExtraTreesClassifier\n",
    "\n",
    "# fit an Extra Trees model to the data\n",
    "model = ExtraTreesClassifier(random_state = seed)\n",
    "model.fit(X_up, y_up)\n",
    "importances = model.feature_importances_\n",
    "std = np.std([tree.feature_importances_ for tree in model.estimators_],\n",
    "             axis=0)\n",
    "indices = np.argsort(importances)[::-1]\n",
    "\n",
    "# Print the feature ranking\n",
    "print(\"Feature ranking:\")\n",
    "\n",
    "#df_ETC =pd.DataFrame()\n",
    "for f in range(X_up.shape[1]):\n",
    "#    df_ETC = pd.concat(X[X.columns[:f]], axis = 1)\n",
    "    print(\"%d. feature %d (%f)\" % (f + 1, indices[f], importances[indices[f]] ))\n",
    "    \n",
    "    \n",
    "# Plot the feature importances of the forest\n",
    "plt.figure()\n",
    "plt.title(\"Feature importances\")\n",
    "plt.bar(range(X_up.shape[1]), importances[indices],\n",
    "       color=\"r\", yerr=std[indices], align=\"center\")\n",
    "plt.xticks(range(X_up.shape[1]), indices)\n",
    "plt.xlim([-1, X_up.shape[1]])\n",
    "plt.show()\n",
    "# display the relative importance of each attribute\n",
    "#print(model.feature_importances_)\n"
   ]
  },
  {
   "cell_type": "code",
   "execution_count": 13,
   "metadata": {
    "collapsed": true
   },
   "outputs": [],
   "source": [
    "X_dwn = df_downsampled[df_downsampled.columns[:-1]]\n",
    "y_dwn = df_downsampled['y']\n"
   ]
  },
  {
   "cell_type": "code",
   "execution_count": 14,
   "metadata": {},
   "outputs": [
    {
     "name": "stdout",
     "output_type": "stream",
     "text": [
      "Feature ranking:\n",
      "1. feature 62 (0.140149)\n",
      "2. feature 46 (0.066204)\n",
      "3. feature 18 (0.057097)\n",
      "4. feature 90 (0.049185)\n",
      "5. feature 14 (0.048999)\n",
      "6. feature 113 (0.038934)\n",
      "7. feature 45 (0.038692)\n",
      "8. feature 64 (0.037074)\n",
      "9. feature 10 (0.036739)\n",
      "10. feature 71 (0.036051)\n",
      "11. feature 76 (0.035676)\n",
      "12. feature 2 (0.033316)\n",
      "13. feature 19 (0.033019)\n",
      "14. feature 114 (0.024171)\n",
      "15. feature 72 (0.020953)\n",
      "16. feature 20 (0.014381)\n",
      "17. feature 39 (0.011894)\n",
      "18. feature 7 (0.011615)\n",
      "19. feature 8 (0.010651)\n",
      "20. feature 16 (0.009970)\n",
      "21. feature 110 (0.009453)\n",
      "22. feature 86 (0.008803)\n",
      "23. feature 112 (0.008669)\n",
      "24. feature 11 (0.008630)\n",
      "25. feature 12 (0.007819)\n",
      "26. feature 9 (0.007475)\n",
      "27. feature 43 (0.007186)\n",
      "28. feature 27 (0.006960)\n",
      "29. feature 89 (0.006721)\n",
      "30. feature 33 (0.006571)\n",
      "31. feature 41 (0.006160)\n",
      "32. feature 34 (0.006089)\n",
      "33. feature 6 (0.005725)\n",
      "34. feature 0 (0.005636)\n",
      "35. feature 65 (0.005600)\n",
      "36. feature 40 (0.005582)\n",
      "37. feature 1 (0.005527)\n",
      "38. feature 68 (0.005013)\n",
      "39. feature 69 (0.004530)\n",
      "40. feature 24 (0.004496)\n",
      "41. feature 15 (0.004349)\n",
      "42. feature 70 (0.004328)\n",
      "43. feature 13 (0.004036)\n",
      "44. feature 91 (0.004025)\n",
      "45. feature 77 (0.004019)\n",
      "46. feature 42 (0.003621)\n",
      "47. feature 17 (0.003514)\n",
      "48. feature 80 (0.003501)\n",
      "49. feature 47 (0.003491)\n",
      "50. feature 81 (0.003058)\n",
      "51. feature 5 (0.002895)\n",
      "52. feature 73 (0.002756)\n",
      "53. feature 21 (0.002571)\n",
      "54. feature 111 (0.002485)\n",
      "55. feature 67 (0.002455)\n",
      "56. feature 26 (0.002384)\n",
      "57. feature 31 (0.002158)\n",
      "58. feature 63 (0.002122)\n",
      "59. feature 74 (0.002107)\n",
      "60. feature 32 (0.002068)\n",
      "61. feature 23 (0.002041)\n",
      "62. feature 87 (0.001993)\n",
      "63. feature 25 (0.001884)\n",
      "64. feature 75 (0.001742)\n",
      "65. feature 85 (0.001709)\n",
      "66. feature 22 (0.001699)\n",
      "67. feature 36 (0.001570)\n",
      "68. feature 29 (0.001542)\n",
      "69. feature 44 (0.001517)\n",
      "70. feature 88 (0.001497)\n",
      "71. feature 79 (0.001487)\n",
      "72. feature 109 (0.001487)\n",
      "73. feature 54 (0.001462)\n",
      "74. feature 104 (0.001382)\n",
      "75. feature 37 (0.001348)\n",
      "76. feature 116 (0.001329)\n",
      "77. feature 35 (0.001281)\n",
      "78. feature 52 (0.001259)\n",
      "79. feature 28 (0.001231)\n",
      "80. feature 78 (0.001167)\n",
      "81. feature 83 (0.001141)\n",
      "82. feature 3 (0.001102)\n",
      "83. feature 38 (0.000983)\n",
      "84. feature 56 (0.000939)\n",
      "85. feature 58 (0.000911)\n",
      "86. feature 57 (0.000899)\n",
      "87. feature 103 (0.000895)\n",
      "88. feature 48 (0.000869)\n",
      "89. feature 95 (0.000863)\n",
      "90. feature 30 (0.000807)\n",
      "91. feature 50 (0.000799)\n",
      "92. feature 53 (0.000752)\n",
      "93. feature 55 (0.000685)\n",
      "94. feature 101 (0.000667)\n",
      "95. feature 96 (0.000611)\n",
      "96. feature 102 (0.000586)\n",
      "97. feature 82 (0.000546)\n",
      "98. feature 4 (0.000541)\n",
      "99. feature 51 (0.000521)\n",
      "100. feature 59 (0.000461)\n",
      "101. feature 94 (0.000435)\n",
      "102. feature 115 (0.000417)\n",
      "103. feature 98 (0.000410)\n",
      "104. feature 84 (0.000377)\n",
      "105. feature 105 (0.000322)\n",
      "106. feature 106 (0.000319)\n",
      "107. feature 100 (0.000311)\n",
      "108. feature 97 (0.000306)\n",
      "109. feature 107 (0.000289)\n",
      "110. feature 99 (0.000286)\n",
      "111. feature 66 (0.000277)\n",
      "112. feature 108 (0.000275)\n",
      "113. feature 49 (0.000156)\n",
      "114. feature 92 (0.000137)\n",
      "115. feature 60 (0.000123)\n",
      "116. feature 93 (0.000000)\n",
      "117. feature 61 (0.000000)\n"
     ]
    },
    {
     "data": {
      "image/png": "[encoded data removed]",
      "text/plain": [
       "<matplotlib.figure.Figure at 0xf5c0a70>"
      ]
     },
     "metadata": {},
     "output_type": "display_data"
    }
   ],
   "source": [
    "model.fit(X_dwn, y_dwn)\n",
    "importances2 = model.feature_importances_\n",
    "std2 = np.std([tree.feature_importances_ for tree in model.estimators_],\n",
    "             axis=0)\n",
    "indices2 = np.argsort(importances2)[::-1]\n",
    "\n",
    "# Print the feature ranking\n",
    "print(\"Feature ranking:\")\n",
    "\n",
    "#df_ETC =pd.DataFrame()\n",
    "for f in range(X_dwn.shape[1]):\n",
    "#    df_ETC = pd.concat(X[X.columns[:f]], axis = 1)\n",
    "    print(\"%d. feature %d (%f)\" % (f + 1, indices2[f], importances2[indices2[f]] ))\n",
    "    \n",
    "    \n",
    "# Plot the feature importances of the forest\n",
    "plt.figure()\n",
    "plt.title(\"Feature importances\")\n",
    "plt.bar(range(X_dwn.shape[1]), importances2[indices2],\n",
    "       color=\"r\", yerr=std2[indices2], align=\"center\")\n",
    "plt.xticks(range(X_dwn.shape[1]), indices2)\n",
    "plt.xlim([-1, X_dwn.shape[1]])\n",
    "plt.show()\n",
    "# display the relative importance of each attribute\n"
   ]
  },
  {
   "cell_type": "code",
   "execution_count": 15,
   "metadata": {},
   "outputs": [
    {
     "data": {
      "text/plain": [
       "array([ True, False,  True, False, False, False,  True,  True, False,\n",
       "        True,  True, False,  True, False,  True,  True, False, False,\n",
       "        True,  True, False, False, False, False, False, False, False,\n",
       "       False, False, False, False, False, False, False, False, False,\n",
       "       False, False, False, False,  True, False, False, False, False,\n",
       "        True,  True, False, False, False, False, False, False, False,\n",
       "       False, False, False, False, False, False, False, False,  True,\n",
       "       False,  True, False, False, False, False,  True,  True,  True,\n",
       "        True, False, False, False,  True, False, False, False, False,\n",
       "       False, False, False, False, False, False, False, False, False,\n",
       "        True, False, False, False, False, False, False, False, False,\n",
       "       False, False, False, False, False, False, False, False, False,\n",
       "       False, False, False, False, False,  True,  True, False, False], dtype=bool)"
      ]
     },
     "execution_count": 15,
     "metadata": {},
     "output_type": "execute_result"
    }
   ],
   "source": [
    "importances > 0.01"
   ]
  },
  {
   "cell_type": "code",
   "execution_count": 16,
   "metadata": {
    "collapsed": true
   },
   "outputs": [],
   "source": [
    "col_X = X_up.columns.values.tolist()"
   ]
  },
  {
   "cell_type": "markdown",
   "metadata": {},
   "source": [
    "Variables cuya importancia sea  > 0.01"
   ]
  },
  {
   "cell_type": "code",
   "execution_count": 17,
   "metadata": {
    "collapsed": true
   },
   "outputs": [],
   "source": [
    "col_FI_up = []\n",
    "count = 0\n",
    "for i in indices:\n",
    "    if importances[indices[i]] > 0.01:\n",
    "        col_FI_up.append(col_X[i])\n",
    "        count += importances[indices[i]]"
   ]
  },
  {
   "cell_type": "code",
   "execution_count": 18,
   "metadata": {},
   "outputs": [
    {
     "data": {
      "text/plain": [
       "0.8047624378455176"
      ]
     },
     "execution_count": 18,
     "metadata": {},
     "output_type": "execute_result"
    }
   ],
   "source": [
    "count"
   ]
  },
  {
   "cell_type": "code",
   "execution_count": 19,
   "metadata": {},
   "outputs": [
    {
     "data": {
      "text/plain": [
       "['V240',\n",
       " 'V182',\n",
       " 'V212',\n",
       " 'V241',\n",
       " 'V245',\n",
       " 'V186',\n",
       " 'V167',\n",
       " 'V203',\n",
       " 'V243',\n",
       " 'V189',\n",
       " 'V180',\n",
       " 'V191',\n",
       " 'V169',\n",
       " 'V244',\n",
       " 'V242',\n",
       " 'V188',\n",
       " 'V239',\n",
       " 'V226',\n",
       " 'V185',\n",
       " 'V187',\n",
       " 'V231',\n",
       " 'V196',\n",
       " 'V220',\n",
       " 'V202']"
      ]
     },
     "execution_count": 19,
     "metadata": {},
     "output_type": "execute_result"
    }
   ],
   "source": [
    "col_FI_up"
   ]
  },
  {
   "cell_type": "markdown",
   "metadata": {},
   "source": [
    "Dataframe - Feature importances - Upsampled"
   ]
  },
  {
   "cell_type": "code",
   "execution_count": 20,
   "metadata": {},
   "outputs": [
    {
     "data": {
      "text/html": [
       "<div>\n",
       "<style>\n",
       "    .dataframe thead tr:only-child th {\n",
       "        text-align: right;\n",
       "    }\n",
       "\n",
       "    .dataframe thead th {\n",
       "        text-align: left;\n",
       "    }\n",
       "\n",
       "    .dataframe tbody tr th {\n",
       "        vertical-align: top;\n",
       "    }\n",
       "</style>\n",
       "<table border=\"1\" class=\"dataframe\">\n",
       "  <thead>\n",
       "    <tr style=\"text-align: right;\">\n",
       "      <th></th>\n",
       "      <th>V240</th>\n",
       "      <th>V182</th>\n",
       "      <th>V212</th>\n",
       "      <th>V241</th>\n",
       "      <th>V245</th>\n",
       "      <th>V186</th>\n",
       "      <th>V167</th>\n",
       "      <th>V203</th>\n",
       "      <th>V243</th>\n",
       "      <th>V189</th>\n",
       "      <th>...</th>\n",
       "      <th>V242</th>\n",
       "      <th>V188</th>\n",
       "      <th>V239</th>\n",
       "      <th>V226</th>\n",
       "      <th>V185</th>\n",
       "      <th>V187</th>\n",
       "      <th>V231</th>\n",
       "      <th>V196</th>\n",
       "      <th>V220</th>\n",
       "      <th>V202</th>\n",
       "    </tr>\n",
       "    <tr>\n",
       "      <th>ref</th>\n",
       "      <th></th>\n",
       "      <th></th>\n",
       "      <th></th>\n",
       "      <th></th>\n",
       "      <th></th>\n",
       "      <th></th>\n",
       "      <th></th>\n",
       "      <th></th>\n",
       "      <th></th>\n",
       "      <th></th>\n",
       "      <th></th>\n",
       "      <th></th>\n",
       "      <th></th>\n",
       "      <th></th>\n",
       "      <th></th>\n",
       "      <th></th>\n",
       "      <th></th>\n",
       "      <th></th>\n",
       "      <th></th>\n",
       "      <th></th>\n",
       "      <th></th>\n",
       "    </tr>\n",
       "  </thead>\n",
       "  <tbody>\n",
       "    <tr>\n",
       "      <th>201390679</th>\n",
       "      <td>9999.0</td>\n",
       "      <td>3000.0</td>\n",
       "      <td>199.0</td>\n",
       "      <td>9999.0</td>\n",
       "      <td>13.0</td>\n",
       "      <td>9999.0</td>\n",
       "      <td>7.0</td>\n",
       "      <td>0.0</td>\n",
       "      <td>10.0</td>\n",
       "      <td>9999.0</td>\n",
       "      <td>...</td>\n",
       "      <td>15.0</td>\n",
       "      <td>8.0</td>\n",
       "      <td>0.0</td>\n",
       "      <td>3.0</td>\n",
       "      <td>113.0</td>\n",
       "      <td>9999.0</td>\n",
       "      <td>945.0</td>\n",
       "      <td>3.0</td>\n",
       "      <td>102003.0</td>\n",
       "      <td>27.0</td>\n",
       "    </tr>\n",
       "    <tr>\n",
       "      <th>201390959</th>\n",
       "      <td>9999.0</td>\n",
       "      <td>1000.0</td>\n",
       "      <td>688.0</td>\n",
       "      <td>9999.0</td>\n",
       "      <td>0.0</td>\n",
       "      <td>9999.0</td>\n",
       "      <td>7.0</td>\n",
       "      <td>0.0</td>\n",
       "      <td>2.0</td>\n",
       "      <td>9999.0</td>\n",
       "      <td>...</td>\n",
       "      <td>32.0</td>\n",
       "      <td>2.0</td>\n",
       "      <td>15.0</td>\n",
       "      <td>5.0</td>\n",
       "      <td>1.0</td>\n",
       "      <td>9999.0</td>\n",
       "      <td>1530.0</td>\n",
       "      <td>2.0</td>\n",
       "      <td>32005.0</td>\n",
       "      <td>47.0</td>\n",
       "    </tr>\n",
       "    <tr>\n",
       "      <th>201397626</th>\n",
       "      <td>9999.0</td>\n",
       "      <td>19000.0</td>\n",
       "      <td>1140.0</td>\n",
       "      <td>9999.0</td>\n",
       "      <td>0.0</td>\n",
       "      <td>9999.0</td>\n",
       "      <td>7.0</td>\n",
       "      <td>0.0</td>\n",
       "      <td>2.0</td>\n",
       "      <td>9999.0</td>\n",
       "      <td>...</td>\n",
       "      <td>32.0</td>\n",
       "      <td>2.0</td>\n",
       "      <td>12.0</td>\n",
       "      <td>3.0</td>\n",
       "      <td>130.0</td>\n",
       "      <td>9999.0</td>\n",
       "      <td>1202.0</td>\n",
       "      <td>2.0</td>\n",
       "      <td>92002.0</td>\n",
       "      <td>36.0</td>\n",
       "    </tr>\n",
       "    <tr>\n",
       "      <th>201397742</th>\n",
       "      <td>9999.0</td>\n",
       "      <td>3000.0</td>\n",
       "      <td>872.0</td>\n",
       "      <td>9999.0</td>\n",
       "      <td>0.0</td>\n",
       "      <td>9999.0</td>\n",
       "      <td>3.0</td>\n",
       "      <td>99.0</td>\n",
       "      <td>3.0</td>\n",
       "      <td>9999.0</td>\n",
       "      <td>...</td>\n",
       "      <td>28.0</td>\n",
       "      <td>3.0</td>\n",
       "      <td>14.0</td>\n",
       "      <td>5.0</td>\n",
       "      <td>69.0</td>\n",
       "      <td>9999.0</td>\n",
       "      <td>1324.0</td>\n",
       "      <td>1.0</td>\n",
       "      <td>42002.0</td>\n",
       "      <td>25.0</td>\n",
       "    </tr>\n",
       "    <tr>\n",
       "      <th>201401345</th>\n",
       "      <td>5.0</td>\n",
       "      <td>5000.0</td>\n",
       "      <td>1143.0</td>\n",
       "      <td>5.0</td>\n",
       "      <td>11.0</td>\n",
       "      <td>110.0</td>\n",
       "      <td>8.0</td>\n",
       "      <td>0.0</td>\n",
       "      <td>5.0</td>\n",
       "      <td>1.0</td>\n",
       "      <td>...</td>\n",
       "      <td>18.0</td>\n",
       "      <td>4.0</td>\n",
       "      <td>0.0</td>\n",
       "      <td>3.0</td>\n",
       "      <td>181.0</td>\n",
       "      <td>28.0</td>\n",
       "      <td>1205.0</td>\n",
       "      <td>1.0</td>\n",
       "      <td>112004.0</td>\n",
       "      <td>33.0</td>\n",
       "    </tr>\n",
       "  </tbody>\n",
       "</table>\n",
       "<p>5 rows × 24 columns</p>\n",
       "</div>"
      ],
      "text/plain": [
       "             V240     V182    V212    V241  V245    V186  V167  V203  V243  \\\n",
       "ref                                                                          \n",
       "201390679  9999.0   3000.0   199.0  9999.0  13.0  9999.0   7.0   0.0  10.0   \n",
       "201390959  9999.0   1000.0   688.0  9999.0   0.0  9999.0   7.0   0.0   2.0   \n",
       "201397626  9999.0  19000.0  1140.0  9999.0   0.0  9999.0   7.0   0.0   2.0   \n",
       "201397742  9999.0   3000.0   872.0  9999.0   0.0  9999.0   3.0  99.0   3.0   \n",
       "201401345     5.0   5000.0  1143.0     5.0  11.0   110.0   8.0   0.0   5.0   \n",
       "\n",
       "             V189  ...   V242  V188  V239  V226   V185    V187    V231  V196  \\\n",
       "ref                ...                                                         \n",
       "201390679  9999.0  ...   15.0   8.0   0.0   3.0  113.0  9999.0   945.0   3.0   \n",
       "201390959  9999.0  ...   32.0   2.0  15.0   5.0    1.0  9999.0  1530.0   2.0   \n",
       "201397626  9999.0  ...   32.0   2.0  12.0   3.0  130.0  9999.0  1202.0   2.0   \n",
       "201397742  9999.0  ...   28.0   3.0  14.0   5.0   69.0  9999.0  1324.0   1.0   \n",
       "201401345     1.0  ...   18.0   4.0   0.0   3.0  181.0    28.0  1205.0   1.0   \n",
       "\n",
       "               V220  V202  \n",
       "ref                        \n",
       "201390679  102003.0  27.0  \n",
       "201390959   32005.0  47.0  \n",
       "201397626   92002.0  36.0  \n",
       "201397742   42002.0  25.0  \n",
       "201401345  112004.0  33.0  \n",
       "\n",
       "[5 rows x 24 columns]"
      ]
     },
     "execution_count": 20,
     "metadata": {},
     "output_type": "execute_result"
    }
   ],
   "source": [
    "df_FI_up = X_up[col_FI_up]\n",
    "df_FI_up.head()"
   ]
  },
  {
   "cell_type": "markdown",
   "metadata": {},
   "source": [
    "Variables cuya importancia sea > 0.01"
   ]
  },
  {
   "cell_type": "code",
   "execution_count": 21,
   "metadata": {
    "collapsed": true
   },
   "outputs": [],
   "source": [
    "col_FI_dwn = []\n",
    "count2 = 0\n",
    "for i in indices2:\n",
    "    if importances2[indices2[i]] > 0.01:\n",
    "        col_FI_dwn.append(col_X[i])\n",
    "        count2 += importances2[indices2[i]]"
   ]
  },
  {
   "cell_type": "code",
   "execution_count": 22,
   "metadata": {},
   "outputs": [
    {
     "data": {
      "text/plain": [
       "0.74480149516753991"
      ]
     },
     "execution_count": 22,
     "metadata": {},
     "output_type": "execute_result"
    }
   ],
   "source": [
    "count2"
   ]
  },
  {
   "cell_type": "code",
   "execution_count": 23,
   "metadata": {},
   "outputs": [
    {
     "data": {
      "text/plain": [
       "['V240',\n",
       " 'V182',\n",
       " 'V189',\n",
       " 'V212',\n",
       " 'V180',\n",
       " 'V242',\n",
       " 'V244',\n",
       " 'V188',\n",
       " 'V243',\n",
       " 'V167',\n",
       " 'V186',\n",
       " 'V203',\n",
       " 'V191',\n",
       " 'V245',\n",
       " 'V196',\n",
       " 'V239',\n",
       " 'V185',\n",
       " 'V202',\n",
       " 'V187']"
      ]
     },
     "execution_count": 23,
     "metadata": {},
     "output_type": "execute_result"
    }
   ],
   "source": [
    "col_FI_dwn"
   ]
  },
  {
   "cell_type": "code",
   "execution_count": 24,
   "metadata": {},
   "outputs": [
    {
     "data": {
      "text/plain": [
       "['V203',\n",
       " 'V191',\n",
       " 'V212',\n",
       " 'V202',\n",
       " 'V187',\n",
       " 'V185',\n",
       " 'V186',\n",
       " 'V180',\n",
       " 'V242',\n",
       " 'V167',\n",
       " 'V189',\n",
       " 'V188',\n",
       " 'V243',\n",
       " 'V196',\n",
       " 'V182',\n",
       " 'V245',\n",
       " 'V244',\n",
       " 'V239',\n",
       " 'V240',\n",
       " 'V241',\n",
       " 'V169',\n",
       " 'V226',\n",
       " 'V220',\n",
       " 'V231',\n",
       " 'V222',\n",
       " 'V172',\n",
       " 'V224',\n",
       " 'V216',\n",
       " 'V219',\n",
       " 'V221',\n",
       " 'V227',\n",
       " 'V214',\n",
       " 'V233',\n",
       " 'V246',\n",
       " 'V232',\n",
       " 'V197',\n",
       " 'V181',\n",
       " 'V178',\n",
       " 'V228',\n",
       " 'V229',\n",
       " 'V201',\n",
       " 'V211',\n",
       " 'V192',\n",
       " 'V168',\n",
       " 'V184',\n",
       " 'V171',\n",
       " 'V225',\n",
       " 'V200',\n",
       " 'X14',\n",
       " 'X13',\n",
       " 'X16',\n",
       " 'X9',\n",
       " 'X8',\n",
       " 'X11',\n",
       " 'X1',\n",
       " 'X3',\n",
       " 'X2',\n",
       " 'X17',\n",
       " 'X21',\n",
       " 'X18',\n",
       " 'X19',\n",
       " 'X20',\n",
       " 'V209_encoded',\n",
       " 'V183_encoded',\n",
       " 'V210_encoded',\n",
       " 'V175_encoded',\n",
       " 'V176_encoded',\n",
       " 'V198_encoded',\n",
       " 'V190_encoded',\n",
       " 'V193_encoded',\n",
       " 'V204_encoded',\n",
       " 'V218_encoded',\n",
       " 'V230_encoded',\n",
       " 'V217_encoded',\n",
       " 'V223_encoded',\n",
       " 'V215_encoded',\n",
       " 'V170_encoded',\n",
       " 'V177_encoded',\n",
       " 'V163_encoded',\n",
       " 'V164_encoded',\n",
       " 'V165_encoded',\n",
       " 'V166_encoded',\n",
       " 'X12_encoded',\n",
       " 'X7_encoded',\n",
       " 'X4_encoded',\n",
       " 'V213',\n",
       " 'V208',\n",
       " 'V205',\n",
       " 'V206',\n",
       " 'V179',\n",
       " 'V199',\n",
       " 'V195',\n",
       " 'V146',\n",
       " 'V147',\n",
       " 'V148',\n",
       " 'V150',\n",
       " 'V151',\n",
       " 'V152',\n",
       " 'V235',\n",
       " 'V236',\n",
       " 'V237',\n",
       " 'V155',\n",
       " 'V156',\n",
       " 'V157',\n",
       " 'V158',\n",
       " 'V159',\n",
       " 'V160',\n",
       " 'V153',\n",
       " 'V149',\n",
       " 'V238',\n",
       " 'V154',\n",
       " 'V161',\n",
       " 'V234',\n",
       " 'V194',\n",
       " 'V207',\n",
       " 'V173',\n",
       " 'V174']"
      ]
     },
     "execution_count": 24,
     "metadata": {},
     "output_type": "execute_result"
    }
   ],
   "source": [
    "col_X\n",
    "\n"
   ]
  },
  {
   "cell_type": "markdown",
   "metadata": {},
   "source": [
    "Dataframe - Feature importances - Downsampled"
   ]
  },
  {
   "cell_type": "code",
   "execution_count": 25,
   "metadata": {},
   "outputs": [
    {
     "data": {
      "text/html": [
       "<div>\n",
       "<style>\n",
       "    .dataframe thead tr:only-child th {\n",
       "        text-align: right;\n",
       "    }\n",
       "\n",
       "    .dataframe thead th {\n",
       "        text-align: left;\n",
       "    }\n",
       "\n",
       "    .dataframe tbody tr th {\n",
       "        vertical-align: top;\n",
       "    }\n",
       "</style>\n",
       "<table border=\"1\" class=\"dataframe\">\n",
       "  <thead>\n",
       "    <tr style=\"text-align: right;\">\n",
       "      <th></th>\n",
       "      <th>V240</th>\n",
       "      <th>V182</th>\n",
       "      <th>V189</th>\n",
       "      <th>V212</th>\n",
       "      <th>V180</th>\n",
       "      <th>V242</th>\n",
       "      <th>V244</th>\n",
       "      <th>V188</th>\n",
       "      <th>V243</th>\n",
       "      <th>V167</th>\n",
       "      <th>V186</th>\n",
       "      <th>V203</th>\n",
       "      <th>V191</th>\n",
       "      <th>V245</th>\n",
       "      <th>V196</th>\n",
       "      <th>V239</th>\n",
       "      <th>V185</th>\n",
       "      <th>V202</th>\n",
       "      <th>V187</th>\n",
       "    </tr>\n",
       "    <tr>\n",
       "      <th>ref</th>\n",
       "      <th></th>\n",
       "      <th></th>\n",
       "      <th></th>\n",
       "      <th></th>\n",
       "      <th></th>\n",
       "      <th></th>\n",
       "      <th></th>\n",
       "      <th></th>\n",
       "      <th></th>\n",
       "      <th></th>\n",
       "      <th></th>\n",
       "      <th></th>\n",
       "      <th></th>\n",
       "      <th></th>\n",
       "      <th></th>\n",
       "      <th></th>\n",
       "      <th></th>\n",
       "      <th></th>\n",
       "      <th></th>\n",
       "    </tr>\n",
       "  </thead>\n",
       "  <tbody>\n",
       "    <tr>\n",
       "      <th>220901784</th>\n",
       "      <td>1.0</td>\n",
       "      <td>9000.0</td>\n",
       "      <td>3.0</td>\n",
       "      <td>1135.0</td>\n",
       "      <td>30.0</td>\n",
       "      <td>20.0</td>\n",
       "      <td>10.0</td>\n",
       "      <td>4.0</td>\n",
       "      <td>5.0</td>\n",
       "      <td>3.0</td>\n",
       "      <td>168.0</td>\n",
       "      <td>0.0</td>\n",
       "      <td>28.0</td>\n",
       "      <td>0.0</td>\n",
       "      <td>1.0</td>\n",
       "      <td>10.0</td>\n",
       "      <td>309.0</td>\n",
       "      <td>43.0</td>\n",
       "      <td>44.0</td>\n",
       "    </tr>\n",
       "    <tr>\n",
       "      <th>234159801</th>\n",
       "      <td>36.0</td>\n",
       "      <td>3000.0</td>\n",
       "      <td>1.0</td>\n",
       "      <td>1137.0</td>\n",
       "      <td>18.0</td>\n",
       "      <td>28.0</td>\n",
       "      <td>21.0</td>\n",
       "      <td>3.0</td>\n",
       "      <td>3.0</td>\n",
       "      <td>3.0</td>\n",
       "      <td>67.0</td>\n",
       "      <td>0.0</td>\n",
       "      <td>33.0</td>\n",
       "      <td>5.0</td>\n",
       "      <td>1.0</td>\n",
       "      <td>16.0</td>\n",
       "      <td>513.0</td>\n",
       "      <td>60.0</td>\n",
       "      <td>24.0</td>\n",
       "    </tr>\n",
       "    <tr>\n",
       "      <th>215190020</th>\n",
       "      <td>9999.0</td>\n",
       "      <td>11000.0</td>\n",
       "      <td>9999.0</td>\n",
       "      <td>1125.0</td>\n",
       "      <td>9999.0</td>\n",
       "      <td>14.0</td>\n",
       "      <td>18.0</td>\n",
       "      <td>2.0</td>\n",
       "      <td>2.0</td>\n",
       "      <td>6.0</td>\n",
       "      <td>9999.0</td>\n",
       "      <td>99.0</td>\n",
       "      <td>28.0</td>\n",
       "      <td>16.0</td>\n",
       "      <td>5.0</td>\n",
       "      <td>2.0</td>\n",
       "      <td>327.0</td>\n",
       "      <td>45.0</td>\n",
       "      <td>9999.0</td>\n",
       "    </tr>\n",
       "    <tr>\n",
       "      <th>212357512</th>\n",
       "      <td>9999.0</td>\n",
       "      <td>9000.0</td>\n",
       "      <td>9999.0</td>\n",
       "      <td>198.0</td>\n",
       "      <td>9999.0</td>\n",
       "      <td>15.0</td>\n",
       "      <td>14.0</td>\n",
       "      <td>8.0</td>\n",
       "      <td>10.0</td>\n",
       "      <td>7.0</td>\n",
       "      <td>9999.0</td>\n",
       "      <td>0.0</td>\n",
       "      <td>43.0</td>\n",
       "      <td>0.0</td>\n",
       "      <td>2.0</td>\n",
       "      <td>14.0</td>\n",
       "      <td>36.0</td>\n",
       "      <td>30.0</td>\n",
       "      <td>9999.0</td>\n",
       "    </tr>\n",
       "    <tr>\n",
       "      <th>232902445</th>\n",
       "      <td>6.0</td>\n",
       "      <td>9000.0</td>\n",
       "      <td>2.0</td>\n",
       "      <td>1136.0</td>\n",
       "      <td>18.0</td>\n",
       "      <td>27.0</td>\n",
       "      <td>0.0</td>\n",
       "      <td>4.0</td>\n",
       "      <td>5.0</td>\n",
       "      <td>2.0</td>\n",
       "      <td>154.0</td>\n",
       "      <td>0.0</td>\n",
       "      <td>8.0</td>\n",
       "      <td>0.0</td>\n",
       "      <td>2.0</td>\n",
       "      <td>0.0</td>\n",
       "      <td>83.0</td>\n",
       "      <td>25.0</td>\n",
       "      <td>31.0</td>\n",
       "    </tr>\n",
       "  </tbody>\n",
       "</table>\n",
       "</div>"
      ],
      "text/plain": [
       "             V240     V182    V189    V212    V180  V242  V244  V188  V243  \\\n",
       "ref                                                                          \n",
       "220901784     1.0   9000.0     3.0  1135.0    30.0  20.0  10.0   4.0   5.0   \n",
       "234159801    36.0   3000.0     1.0  1137.0    18.0  28.0  21.0   3.0   3.0   \n",
       "215190020  9999.0  11000.0  9999.0  1125.0  9999.0  14.0  18.0   2.0   2.0   \n",
       "212357512  9999.0   9000.0  9999.0   198.0  9999.0  15.0  14.0   8.0  10.0   \n",
       "232902445     6.0   9000.0     2.0  1136.0    18.0  27.0   0.0   4.0   5.0   \n",
       "\n",
       "           V167    V186  V203  V191  V245  V196  V239   V185  V202    V187  \n",
       "ref                                                                         \n",
       "220901784   3.0   168.0   0.0  28.0   0.0   1.0  10.0  309.0  43.0    44.0  \n",
       "234159801   3.0    67.0   0.0  33.0   5.0   1.0  16.0  513.0  60.0    24.0  \n",
       "215190020   6.0  9999.0  99.0  28.0  16.0   5.0   2.0  327.0  45.0  9999.0  \n",
       "212357512   7.0  9999.0   0.0  43.0   0.0   2.0  14.0   36.0  30.0  9999.0  \n",
       "232902445   2.0   154.0   0.0   8.0   0.0   2.0   0.0   83.0  25.0    31.0  "
      ]
     },
     "execution_count": 25,
     "metadata": {},
     "output_type": "execute_result"
    }
   ],
   "source": [
    "df_FI_dwn = X_dwn[col_FI_dwn]\n",
    "df_FI_dwn.head()"
   ]
  },
  {
   "cell_type": "markdown",
   "metadata": {},
   "source": [
    "### MODELOS"
   ]
  },
  {
   "cell_type": "markdown",
   "metadata": {},
   "source": [
    "**ASAP: As Simple As Possible**"
   ]
  },
  {
   "cell_type": "code",
   "execution_count": 28,
   "metadata": {
    "collapsed": true
   },
   "outputs": [],
   "source": [
    "from sklearn import linear_model\n",
    "from sklearn import model_selection\n",
    "from sklearn.metrics import classification_report\n",
    "from sklearn.metrics import confusion_matrix\n",
    "from sklearn.metrics import accuracy_score"
   ]
  },
  {
   "cell_type": "markdown",
   "metadata": {},
   "source": [
    "UPSAMPLED"
   ]
  },
  {
   "cell_type": "code",
   "execution_count": 29,
   "metadata": {},
   "outputs": [
    {
     "data": {
      "text/plain": [
       "LogisticRegression(C=1.0, class_weight=None, dual=False, fit_intercept=True,\n",
       "          intercept_scaling=1, max_iter=100, multi_class='ovr', n_jobs=1,\n",
       "          penalty='l2', random_state=7, solver='liblinear', tol=0.0001,\n",
       "          verbose=0, warm_start=False)"
      ]
     },
     "execution_count": 29,
     "metadata": {},
     "output_type": "execute_result"
    }
   ],
   "source": [
    "model_up = linear_model.LogisticRegression(random_state = seed)\n",
    "model_up.fit(df_FI_up,y_up)"
   ]
  },
  {
   "cell_type": "markdown",
   "metadata": {},
   "source": [
    "Predicciones"
   ]
  },
  {
   "cell_type": "code",
   "execution_count": 30,
   "metadata": {},
   "outputs": [
    {
     "name": "stdout",
     "output_type": "stream",
     "text": [
      "[1 1 0 0 0 0 0 0 0 0]\n"
     ]
    }
   ],
   "source": [
    "predictions_up = model_up.predict(df_FI_up)\n",
    "print(predictions_up[0:10])"
   ]
  },
  {
   "cell_type": "code",
   "execution_count": 31,
   "metadata": {},
   "outputs": [
    {
     "data": {
      "text/plain": [
       "ref\n",
       "201390679    0\n",
       "201390959    0\n",
       "201397626    0\n",
       "201397742    0\n",
       "201401345    0\n",
       "201402181    0\n",
       "201403985    0\n",
       "201404213    0\n",
       "201405542    0\n",
       "201405827    0\n",
       "Name: y, dtype: int64"
      ]
     },
     "execution_count": 31,
     "metadata": {},
     "output_type": "execute_result"
    }
   ],
   "source": [
    "y_up[0:10]"
   ]
  },
  {
   "cell_type": "code",
   "execution_count": 32,
   "metadata": {},
   "outputs": [
    {
     "data": {
      "text/plain": [
       "0.93568347565309684"
      ]
     },
     "execution_count": 32,
     "metadata": {},
     "output_type": "execute_result"
    }
   ],
   "source": [
    "model_up.score(df_FI_up,y_up)"
   ]
  },
  {
   "cell_type": "markdown",
   "metadata": {},
   "source": [
    "Train / Test"
   ]
  },
  {
   "cell_type": "code",
   "execution_count": 33,
   "metadata": {},
   "outputs": [],
   "source": [
    "test_size = 0.20\n",
    "\n",
    "X_train_up, X_test_up, Y_train_up, Y_test_up = model_selection.train_test_split(df_FI_up, y_up, test_size=test_size, random_state=seed)\n"
   ]
  },
  {
   "cell_type": "markdown",
   "metadata": {},
   "source": [
    "Cross-validation"
   ]
  },
  {
   "cell_type": "code",
   "execution_count": 34,
   "metadata": {},
   "outputs": [
    {
     "name": "stdout",
     "output_type": "stream",
     "text": [
      "Logistic Regression: 0.935950 (0.001500)\n"
     ]
    }
   ],
   "source": [
    "name='Logistic Regression'\n",
    "kfold = model_selection.KFold(n_splits=10, random_state=seed)\n",
    "cv_results = model_selection.cross_val_score(model_up, X_train_up, Y_train_up, cv=kfold, scoring='accuracy')\n",
    "msg = \"%s: %f (%f)\" % (name, cv_results.mean(), cv_results.std())\n",
    "print(msg)\n"
   ]
  },
  {
   "cell_type": "markdown",
   "metadata": {},
   "source": [
    "Predicciones"
   ]
  },
  {
   "cell_type": "code",
   "execution_count": 35,
   "metadata": {
    "collapsed": true
   },
   "outputs": [],
   "source": [
    "predictions_up1 = model_up.predict(X_test_up)\n"
   ]
  },
  {
   "cell_type": "code",
   "execution_count": 36,
   "metadata": {},
   "outputs": [
    {
     "name": "stdout",
     "output_type": "stream",
     "text": [
      "0.935468951583\n"
     ]
    }
   ],
   "source": [
    "print(model_up.score(X_train_up, Y_train_up))"
   ]
  },
  {
   "cell_type": "markdown",
   "metadata": {},
   "source": [
    "Accuracy"
   ]
  },
  {
   "cell_type": "code",
   "execution_count": 37,
   "metadata": {},
   "outputs": [
    {
     "name": "stdout",
     "output_type": "stream",
     "text": [
      "0.936541551044\n"
     ]
    }
   ],
   "source": [
    "print(accuracy_score(Y_test_up, predictions_up1))"
   ]
  },
  {
   "cell_type": "markdown",
   "metadata": {},
   "source": [
    "Matriz de confusión"
   ]
  },
  {
   "cell_type": "code",
   "execution_count": 73,
   "metadata": {},
   "outputs": [
    {
     "name": "stdout",
     "output_type": "stream",
     "text": [
      "[[19082  1445]\n",
      " [ 1162 19393]]\n"
     ]
    }
   ],
   "source": [
    "print(confusion_matrix(Y_test_up, predictions_up1))"
   ]
  },
  {
   "cell_type": "code",
   "execution_count": 40,
   "metadata": {
    "collapsed": true
   },
   "outputs": [],
   "source": [
    "from pandas_ml import ConfusionMatrix"
   ]
  },
  {
   "cell_type": "code",
   "execution_count": 41,
   "metadata": {},
   "outputs": [
    {
     "data": {
      "text/plain": [
       "Predicted      0      1  __all__\n",
       "Actual                          \n",
       "0          19082   1445    20527\n",
       "1           1162  19393    20555\n",
       "__all__    20244  20838    41082"
      ]
     },
     "execution_count": 41,
     "metadata": {},
     "output_type": "execute_result"
    }
   ],
   "source": [
    "ConfusionMatrix(Y_test_up.tolist(), predictions_up1)"
   ]
  },
  {
   "cell_type": "markdown",
   "metadata": {},
   "source": [
    "f1-score"
   ]
  },
  {
   "cell_type": "code",
   "execution_count": 42,
   "metadata": {},
   "outputs": [
    {
     "name": "stdout",
     "output_type": "stream",
     "text": [
      "             precision    recall  f1-score   support\n",
      "\n",
      "          0       0.94      0.93      0.94     20527\n",
      "          1       0.93      0.94      0.94     20555\n",
      "\n",
      "avg / total       0.94      0.94      0.94     41082\n",
      "\n"
     ]
    }
   ],
   "source": [
    "print(classification_report(Y_test_up, predictions_up1))"
   ]
  },
  {
   "cell_type": "markdown",
   "metadata": {},
   "source": [
    "DOWNSAMPLED"
   ]
  },
  {
   "cell_type": "code",
   "execution_count": 43,
   "metadata": {},
   "outputs": [
    {
     "data": {
      "text/plain": [
       "LogisticRegression(C=1.0, class_weight=None, dual=False, fit_intercept=True,\n",
       "          intercept_scaling=1, max_iter=100, multi_class='ovr', n_jobs=1,\n",
       "          penalty='l2', random_state=7, solver='liblinear', tol=0.0001,\n",
       "          verbose=0, warm_start=False)"
      ]
     },
     "execution_count": 43,
     "metadata": {},
     "output_type": "execute_result"
    }
   ],
   "source": [
    "model_dwn = linear_model.LogisticRegression(random_state = seed)\n",
    "model_dwn.fit(df_FI_dwn,y_dwn)"
   ]
  },
  {
   "cell_type": "markdown",
   "metadata": {},
   "source": [
    "Predicciones"
   ]
  },
  {
   "cell_type": "code",
   "execution_count": 44,
   "metadata": {},
   "outputs": [
    {
     "name": "stdout",
     "output_type": "stream",
     "text": [
      "[0 0 0 0 0 0 0 0 0 0]\n"
     ]
    }
   ],
   "source": [
    "predictions_dwn = model_dwn.predict(df_FI_dwn)\n",
    "print(predictions_dwn[0:10])"
   ]
  },
  {
   "cell_type": "code",
   "execution_count": 45,
   "metadata": {},
   "outputs": [
    {
     "data": {
      "text/plain": [
       "ref\n",
       "220901784    0\n",
       "234159801    0\n",
       "215190020    0\n",
       "212357512    0\n",
       "232902445    0\n",
       "236278777    0\n",
       "204326101    0\n",
       "224675612    0\n",
       "204066333    0\n",
       "218689326    0\n",
       "Name: y, dtype: int64"
      ]
     },
     "execution_count": 45,
     "metadata": {},
     "output_type": "execute_result"
    }
   ],
   "source": [
    "y_dwn[0:10]"
   ]
  },
  {
   "cell_type": "code",
   "execution_count": 46,
   "metadata": {},
   "outputs": [
    {
     "data": {
      "text/plain": [
       "0.91618497109826591"
      ]
     },
     "execution_count": 46,
     "metadata": {},
     "output_type": "execute_result"
    }
   ],
   "source": [
    "model_dwn.score(df_FI_dwn,y_dwn)"
   ]
  },
  {
   "cell_type": "markdown",
   "metadata": {},
   "source": [
    "Train / Test"
   ]
  },
  {
   "cell_type": "code",
   "execution_count": 47,
   "metadata": {
    "collapsed": true
   },
   "outputs": [],
   "source": [
    "test_size = 0.20\n",
    "\n",
    "X_train_dwn, X_test_dwn, Y_train_dwn, Y_test_dwn = model_selection.train_test_split(df_FI_dwn, y_dwn, test_size=test_size, random_state=seed)\n"
   ]
  },
  {
   "cell_type": "markdown",
   "metadata": {},
   "source": [
    "Cross-validation"
   ]
  },
  {
   "cell_type": "code",
   "execution_count": 48,
   "metadata": {},
   "outputs": [
    {
     "name": "stdout",
     "output_type": "stream",
     "text": [
      "Logistic Regression: 0.914305 (0.020923)\n"
     ]
    }
   ],
   "source": [
    "name='Logistic Regression'\n",
    "kfold = model_selection.KFold(n_splits=10, random_state=seed)\n",
    "cv_results_dwn = model_selection.cross_val_score(model_dwn, X_train_dwn, Y_train_dwn, cv=kfold, scoring='accuracy')\n",
    "msg_dwn = \"%s: %f (%f)\" % (name, cv_results_dwn.mean(), cv_results_dwn.std())\n",
    "print(msg_dwn)\n"
   ]
  },
  {
   "cell_type": "markdown",
   "metadata": {},
   "source": [
    "Predicciones"
   ]
  },
  {
   "cell_type": "code",
   "execution_count": 49,
   "metadata": {
    "collapsed": true
   },
   "outputs": [],
   "source": [
    "predictions_dwn1 = model_dwn.predict(X_test_dwn)\n"
   ]
  },
  {
   "cell_type": "code",
   "execution_count": 50,
   "metadata": {},
   "outputs": [
    {
     "name": "stdout",
     "output_type": "stream",
     "text": [
      "0.917398038203\n"
     ]
    }
   ],
   "source": [
    "print(model_dwn.score(X_train_dwn, Y_train_dwn))"
   ]
  },
  {
   "cell_type": "markdown",
   "metadata": {},
   "source": [
    "Accuracy"
   ]
  },
  {
   "cell_type": "code",
   "execution_count": 51,
   "metadata": {},
   "outputs": [
    {
     "name": "stdout",
     "output_type": "stream",
     "text": [
      "0.911340206186\n"
     ]
    }
   ],
   "source": [
    "print(accuracy_score(Y_test_dwn, predictions_dwn1))"
   ]
  },
  {
   "cell_type": "markdown",
   "metadata": {},
   "source": [
    "Matriz de confusión"
   ]
  },
  {
   "cell_type": "code",
   "execution_count": 52,
   "metadata": {},
   "outputs": [
    {
     "name": "stdout",
     "output_type": "stream",
     "text": [
      "[[211  26]\n",
      " [ 17 231]]\n"
     ]
    }
   ],
   "source": [
    "print(confusion_matrix(Y_test_dwn, predictions_dwn1))"
   ]
  },
  {
   "cell_type": "code",
   "execution_count": 53,
   "metadata": {},
   "outputs": [
    {
     "data": {
      "text/plain": [
       "Predicted    0    1  __all__\n",
       "Actual                      \n",
       "0          211   26      237\n",
       "1           17  231      248\n",
       "__all__    228  257      485"
      ]
     },
     "execution_count": 53,
     "metadata": {},
     "output_type": "execute_result"
    }
   ],
   "source": [
    "ConfusionMatrix(Y_test_dwn.tolist(), predictions_dwn1)"
   ]
  },
  {
   "cell_type": "markdown",
   "metadata": {},
   "source": [
    "f1-score"
   ]
  },
  {
   "cell_type": "code",
   "execution_count": 54,
   "metadata": {},
   "outputs": [
    {
     "name": "stdout",
     "output_type": "stream",
     "text": [
      "             precision    recall  f1-score   support\n",
      "\n",
      "          0       0.93      0.89      0.91       237\n",
      "          1       0.90      0.93      0.91       248\n",
      "\n",
      "avg / total       0.91      0.91      0.91       485\n",
      "\n"
     ]
    }
   ],
   "source": [
    "print(classification_report(Y_test_dwn, predictions_dwn1))"
   ]
  },
  {
   "cell_type": "markdown",
   "metadata": {},
   "source": [
    "### MEJOR MODELO POSIBLE"
   ]
  },
  {
   "cell_type": "markdown",
   "metadata": {},
   "source": [
    "SVM"
   ]
  },
  {
   "cell_type": "code",
   "execution_count": 77,
   "metadata": {
    "collapsed": true
   },
   "outputs": [],
   "source": [
    "from sklearn import svm"
   ]
  },
  {
   "cell_type": "markdown",
   "metadata": {},
   "source": [
    "UPSAMPLED"
   ]
  },
  {
   "cell_type": "code",
   "execution_count": 78,
   "metadata": {},
   "outputs": [],
   "source": [
    "classifier_up = svm.SVC(kernel='linear', random_state = seed) # We set a SVM classifier, the default SVM Classifier (Kernel = Radial Basis Function)"
   ]
  },
  {
   "cell_type": "code",
   "execution_count": 79,
   "metadata": {},
   "outputs": [
    {
     "data": {
      "text/plain": [
       "SVC(C=1.0, cache_size=200, class_weight=None, coef0=0.0,\n",
       "  decision_function_shape='ovr', degree=3, gamma='auto', kernel='linear',\n",
       "  max_iter=-1, probability=False, random_state=None, shrinking=True,\n",
       "  tol=0.001, verbose=False)"
      ]
     },
     "execution_count": 79,
     "metadata": {},
     "output_type": "execute_result"
    }
   ],
   "source": [
    "classifier_up.fit(X_train_up, Y_train_up)"
   ]
  },
  {
   "cell_type": "markdown",
   "metadata": {},
   "source": [
    "Predicciones"
   ]
  },
  {
   "cell_type": "code",
   "execution_count": 80,
   "metadata": {},
   "outputs": [
    {
     "name": "stdout",
     "output_type": "stream",
     "text": [
      "0.926066794869\n"
     ]
    }
   ],
   "source": [
    "svm_pred_up = classifier_up.predict(X_test_up)\n",
    "print(classifier_up.score(X_train_up, Y_train_up))"
   ]
  },
  {
   "cell_type": "markdown",
   "metadata": {},
   "source": [
    "Accuracy"
   ]
  },
  {
   "cell_type": "code",
   "execution_count": 81,
   "metadata": {},
   "outputs": [
    {
     "name": "stdout",
     "output_type": "stream",
     "text": [
      "0.927291757948\n"
     ]
    }
   ],
   "source": [
    "print(accuracy_score(Y_test_up, svm_pred_up))"
   ]
  },
  {
   "cell_type": "markdown",
   "metadata": {},
   "source": [
    "Matriz de confusión"
   ]
  },
  {
   "cell_type": "code",
   "execution_count": 82,
   "metadata": {},
   "outputs": [
    {
     "name": "stdout",
     "output_type": "stream",
     "text": [
      "[[18536  1991]\n",
      " [  996 19559]]\n"
     ]
    }
   ],
   "source": [
    "print(confusion_matrix(Y_test_up, svm_pred_up))"
   ]
  },
  {
   "cell_type": "code",
   "execution_count": 83,
   "metadata": {
    "scrolled": true
   },
   "outputs": [
    {
     "data": {
      "text/plain": [
       "Predicted      0      1  __all__\n",
       "Actual                          \n",
       "0          18536   1991    20527\n",
       "1            996  19559    20555\n",
       "__all__    19532  21550    41082"
      ]
     },
     "execution_count": 83,
     "metadata": {},
     "output_type": "execute_result"
    }
   ],
   "source": [
    "from pandas_ml import ConfusionMatrix\n",
    "ConfusionMatrix(Y_test_up.tolist(), svm_pred_up)\n"
   ]
  },
  {
   "cell_type": "code",
   "execution_count": 84,
   "metadata": {},
   "outputs": [
    {
     "name": "stdout",
     "output_type": "stream",
     "text": [
      "             precision    recall  f1-score   support\n",
      "\n",
      "          0       0.95      0.90      0.93     20527\n",
      "          1       0.91      0.95      0.93     20555\n",
      "\n",
      "avg / total       0.93      0.93      0.93     41082\n",
      "\n"
     ]
    }
   ],
   "source": [
    "print(classification_report(Y_test_up, svm_pred_up))"
   ]
  },
  {
   "cell_type": "markdown",
   "metadata": {},
   "source": [
    "SVM Downsampled"
   ]
  },
  {
   "cell_type": "code",
   "execution_count": 50,
   "metadata": {},
   "outputs": [
    {
     "data": {
      "text/plain": [
       "SVC(C=1.0, cache_size=200, class_weight=None, coef0=0.0,\n",
       "  decision_function_shape='ovr', degree=3, gamma='auto', kernel='linear',\n",
       "  max_iter=-1, probability=False, random_state=None, shrinking=True,\n",
       "  tol=0.001, verbose=False)"
      ]
     },
     "execution_count": 50,
     "metadata": {},
     "output_type": "execute_result"
    }
   ],
   "source": [
    "classifier.fit(X_train_dwn, Y_train_dwn)"
   ]
  },
  {
   "cell_type": "markdown",
   "metadata": {},
   "source": [
    "Predicciones"
   ]
  },
  {
   "cell_type": "code",
   "execution_count": 79,
   "metadata": {
    "collapsed": true
   },
   "outputs": [],
   "source": [
    "svm_pred_dwn = classifier.predict(X_test_dwn)"
   ]
  },
  {
   "cell_type": "code",
   "execution_count": 80,
   "metadata": {},
   "outputs": [
    {
     "name": "stdout",
     "output_type": "stream",
     "text": [
      "0.912751677852\n"
     ]
    }
   ],
   "source": [
    "print(classifier.score(X_train_dwn, Y_train_dwn))"
   ]
  },
  {
   "cell_type": "markdown",
   "metadata": {},
   "source": [
    "Accuracy"
   ]
  },
  {
   "cell_type": "code",
   "execution_count": 81,
   "metadata": {},
   "outputs": [
    {
     "name": "stdout",
     "output_type": "stream",
     "text": [
      "0.898969072165\n"
     ]
    }
   ],
   "source": [
    "print(accuracy_score(Y_test_dwn, svm_pred_dwn))"
   ]
  },
  {
   "cell_type": "markdown",
   "metadata": {},
   "source": [
    "Matriz de confusión"
   ]
  },
  {
   "cell_type": "code",
   "execution_count": 82,
   "metadata": {},
   "outputs": [
    {
     "name": "stdout",
     "output_type": "stream",
     "text": [
      "[[208  29]\n",
      " [ 20 228]]\n"
     ]
    }
   ],
   "source": [
    "print(confusion_matrix(Y_test_dwn, svm_pred_dwn))"
   ]
  },
  {
   "cell_type": "code",
   "execution_count": 83,
   "metadata": {},
   "outputs": [
    {
     "data": {
      "text/plain": [
       "Predicted    0    1  __all__\n",
       "Actual                      \n",
       "0          208   29      237\n",
       "1           20  228      248\n",
       "__all__    228  257      485"
      ]
     },
     "execution_count": 83,
     "metadata": {},
     "output_type": "execute_result"
    }
   ],
   "source": [
    "ConfusionMatrix(Y_test_dwn.tolist(), svm_pred_dwn)"
   ]
  },
  {
   "cell_type": "markdown",
   "metadata": {},
   "source": [
    "SVM optimizar parámetros. Rejilla"
   ]
  },
  {
   "cell_type": "code",
   "execution_count": 78,
   "metadata": {
    "collapsed": true
   },
   "outputs": [],
   "source": [
    "param_grid = [\n",
    "  {'C': [1, 10], 'kernel': ['linear']},\n",
    "  {'C': [1, 10], 'gamma': [0.001, 0.0001], 'kernel': ['rbf']},\n",
    " ]"
   ]
  },
  {
   "cell_type": "code",
   "execution_count": null,
   "metadata": {
    "collapsed": true
   },
   "outputs": [],
   "source": [
    "from sklearn.grid_search import GridSearchCV\n",
    "\n",
    "svm = svm.SVC(random_state=1988)\n",
    "\n",
    "# crear grid search\n",
    "gs = GridSearchCV(estimator=svm, param_grid=param_grid, scoring='accuracy',\n",
    "                  cv=5,n_jobs=-1)\n",
    "\n",
    "# comenzar el ajuste\n",
    "gs_up = gs.fit(X_train_up, Y_train_up)"
   ]
  },
  {
   "cell_type": "code",
   "execution_count": null,
   "metadata": {
    "collapsed": true
   },
   "outputs": [],
   "source": [
    "# imprimir resultados\n",
    "print(gs_up.best_score_)\n",
    "print(gs_up.best_params_)"
   ]
  },
  {
   "cell_type": "code",
   "execution_count": null,
   "metadata": {
    "collapsed": true
   },
   "outputs": [],
   "source": [
    "# utilizando el mejor modelo\n",
    "mejor_modelo_up = gs_up.best_estimator_\n",
    "mejor_modelo_up.fit(x_train_up, Y_train_up)\n",
    "print('Precisión: {0:.3f}'.format(mejor_modelo_up.score(X_test_up, Y_test_up)))\n"
   ]
  },
  {
   "cell_type": "markdown",
   "metadata": {},
   "source": [
    "SVM DOWNSAMPLED"
   ]
  },
  {
   "cell_type": "code",
   "execution_count": null,
   "metadata": {
    "collapsed": true
   },
   "outputs": [],
   "source": [
    "gs_dwn = gs.fit(x_train_dwn, Y_train_dwn)"
   ]
  },
  {
   "cell_type": "code",
   "execution_count": null,
   "metadata": {
    "collapsed": true
   },
   "outputs": [],
   "source": [
    "# imprimir resultados\n",
    "print(gs_dwn.best_score_)\n",
    "print(gs_dwn.best_params_)"
   ]
  },
  {
   "cell_type": "code",
   "execution_count": null,
   "metadata": {
    "collapsed": true
   },
   "outputs": [],
   "source": [
    "# utilizando el mejor modelo\n",
    "mejor_modelo_dwn = gs_dwn.best_estimator_\n",
    "mejor_modelo_dwn.fit(x_train_dwn, Y_train_dwn)\n",
    "print('Precisión: {0:.3f}'.format(mejor_modelo_dwn.score(X_test_dwn, Y_test_dwn)))\n"
   ]
  },
  {
   "cell_type": "markdown",
   "metadata": {},
   "source": [
    "RANDOM FOREST UP"
   ]
  },
  {
   "cell_type": "code",
   "execution_count": 55,
   "metadata": {
    "collapsed": true
   },
   "outputs": [],
   "source": [
    "from sklearn.ensemble import RandomForestClassifier"
   ]
  },
  {
   "cell_type": "code",
   "execution_count": 56,
   "metadata": {
    "collapsed": true
   },
   "outputs": [],
   "source": [
    "rf_up = RandomForestClassifier(n_estimators=200, random_state = seed)\n",
    "rf_up.fit(X_train_up, Y_train_up)\n",
    "\n",
    "rf_pred_up = rf_up.predict(X_test_up)"
   ]
  },
  {
   "cell_type": "code",
   "execution_count": 57,
   "metadata": {},
   "outputs": [
    {
     "name": "stdout",
     "output_type": "stream",
     "text": [
      "1.0\n"
     ]
    }
   ],
   "source": [
    "print(rf_up.score(X_train_up, Y_train_up))"
   ]
  },
  {
   "cell_type": "markdown",
   "metadata": {},
   "source": [
    "Accuracy"
   ]
  },
  {
   "cell_type": "code",
   "execution_count": 58,
   "metadata": {},
   "outputs": [
    {
     "name": "stdout",
     "output_type": "stream",
     "text": [
      "Accuracy: 0.999415802541\n"
     ]
    }
   ],
   "source": [
    "print(\"Accuracy:\",metrics.accuracy_score(Y_test_up, rf_pred_up))"
   ]
  },
  {
   "cell_type": "markdown",
   "metadata": {},
   "source": [
    "Matriz de confusión"
   ]
  },
  {
   "cell_type": "code",
   "execution_count": 71,
   "metadata": {},
   "outputs": [
    {
     "name": "stdout",
     "output_type": "stream",
     "text": [
      "[[20503    24]\n",
      " [    0 20555]]\n"
     ]
    }
   ],
   "source": [
    "print(confusion_matrix(Y_test_up, rf_pred_up))"
   ]
  },
  {
   "cell_type": "code",
   "execution_count": 60,
   "metadata": {},
   "outputs": [
    {
     "data": {
      "text/plain": [
       "Predicted      0      1  __all__\n",
       "Actual                          \n",
       "0          20503     24    20527\n",
       "1              0  20555    20555\n",
       "__all__    20503  20579    41082"
      ]
     },
     "execution_count": 60,
     "metadata": {},
     "output_type": "execute_result"
    }
   ],
   "source": [
    "ConfusionMatrix(Y_test_up.tolist(), rf_pred_up)"
   ]
  },
  {
   "cell_type": "markdown",
   "metadata": {},
   "source": [
    "RANDOM FOREST DOWN"
   ]
  },
  {
   "cell_type": "code",
   "execution_count": 61,
   "metadata": {
    "collapsed": true
   },
   "outputs": [],
   "source": [
    "rf_dwn = RandomForestClassifier(n_estimators=200, random_state = seed)\n",
    "rf_dwn.fit(X_train_dwn, Y_train_dwn)\n",
    "rf_pred_dwn = rf_dwn.predict(X_test_dwn)"
   ]
  },
  {
   "cell_type": "code",
   "execution_count": 62,
   "metadata": {},
   "outputs": [
    {
     "name": "stdout",
     "output_type": "stream",
     "text": [
      "1.0\n"
     ]
    }
   ],
   "source": [
    "print(rf_dwn.score(X_train_dwn, Y_train_dwn))"
   ]
  },
  {
   "cell_type": "markdown",
   "metadata": {},
   "source": [
    "Accuracy"
   ]
  },
  {
   "cell_type": "code",
   "execution_count": 63,
   "metadata": {},
   "outputs": [
    {
     "name": "stdout",
     "output_type": "stream",
     "text": [
      "Accuracy: 0.960824742268\n"
     ]
    }
   ],
   "source": [
    "print(\"Accuracy:\",metrics.accuracy_score(Y_test_dwn, rf_pred_dwn))"
   ]
  },
  {
   "cell_type": "markdown",
   "metadata": {},
   "source": [
    "Matriz de confusión"
   ]
  },
  {
   "cell_type": "code",
   "execution_count": 64,
   "metadata": {},
   "outputs": [
    {
     "name": "stdout",
     "output_type": "stream",
     "text": [
      "[[228   9]\n",
      " [ 10 238]]\n"
     ]
    }
   ],
   "source": [
    "print(confusion_matrix(Y_test_dwn, rf_pred_dwn))"
   ]
  },
  {
   "cell_type": "code",
   "execution_count": 65,
   "metadata": {},
   "outputs": [
    {
     "data": {
      "text/plain": [
       "Predicted    0    1  __all__\n",
       "Actual                      \n",
       "0          228    9      237\n",
       "1           10  238      248\n",
       "__all__    238  247      485"
      ]
     },
     "execution_count": 65,
     "metadata": {},
     "output_type": "execute_result"
    }
   ],
   "source": [
    "ConfusionMatrix(Y_test_dwn.tolist(), rf_pred_dwn)"
   ]
  },
  {
   "cell_type": "markdown",
   "metadata": {},
   "source": [
    "XGBoost UP"
   ]
  },
  {
   "cell_type": "code",
   "execution_count": null,
   "metadata": {
    "collapsed": true
   },
   "outputs": [],
   "source": []
  },
  {
   "cell_type": "code",
   "execution_count": null,
   "metadata": {
    "collapsed": true
   },
   "outputs": [],
   "source": []
  },
  {
   "cell_type": "code",
   "execution_count": null,
   "metadata": {
    "collapsed": true
   },
   "outputs": [],
   "source": []
  },
  {
   "cell_type": "code",
   "execution_count": null,
   "metadata": {
    "collapsed": true
   },
   "outputs": [],
   "source": []
  },
  {
   "cell_type": "markdown",
   "metadata": {
    "collapsed": true
   },
   "source": [
    "Random Forest optimizar parámetros. Rejilla"
   ]
  },
  {
   "cell_type": "code",
   "execution_count": 34,
   "metadata": {},
   "outputs": [],
   "source": [
    "rfc_up = RandomForestClassifier(random_state=seed)"
   ]
  },
  {
   "cell_type": "code",
   "execution_count": 35,
   "metadata": {
    "collapsed": true
   },
   "outputs": [],
   "source": [
    "param_grid = { \n",
    "    'n_estimators': [200, 500],\n",
    "    'max_features': ['auto', 'sqrt', 'log2'],\n",
    "    'max_depth' : [4,5,6,7,8],\n",
    "    'criterion' :['gini', 'entropy']\n",
    "}"
   ]
  },
  {
   "cell_type": "code",
   "execution_count": null,
   "metadata": {},
   "outputs": [
    {
     "name": "stderr",
     "output_type": "stream",
     "text": [
      "C:\\Users\\Isaac\\Anaconda3\\lib\\site-packages\\sklearn\\cross_validation.py:41: DeprecationWarning: This module was deprecated in version 0.18 in favor of the model_selection module into which all the refactored classes and functions are moved. Also note that the interface of the new CV iterators are different from that of this module. This module will be removed in 0.20.\n",
      "  \"This module will be removed in 0.20.\", DeprecationWarning)\n",
      "C:\\Users\\Isaac\\Anaconda3\\lib\\site-packages\\sklearn\\grid_search.py:42: DeprecationWarning: This module was deprecated in version 0.18 in favor of the model_selection module into which all the refactored classes and functions are moved. This module will be removed in 0.20.\n",
      "  DeprecationWarning)\n"
     ]
    }
   ],
   "source": [
    "from sklearn.grid_search import GridSearchCV\n",
    "CV_rfc_up = GridSearchCV(estimator=rfc_up, param_grid=param_grid, cv= 5)\n",
    "CV_rfc_up.fit(X_train_up, Y_train_up)"
   ]
  }
 ],
 "metadata": {
  "kernelspec": {
   "display_name": "Python 3",
   "language": "python",
   "name": "python3"
  },
  "language_info": {
   "codemirror_mode": {
    "name": "ipython",
    "version": 3
   },
   "file_extension": ".py",
   "mimetype": "text/x-python",
   "name": "python",
   "nbconvert_exporter": "python",
   "pygments_lexer": "ipython3",
   "version": "3.6.2"
  }
 },
 "nbformat": 4,
 "nbformat_minor": 2
}
